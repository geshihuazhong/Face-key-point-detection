{
 "cells": [
  {
   "cell_type": "code",
   "execution_count": 20,
   "metadata": {},
   "outputs": [],
   "source": [
    "import os\n",
    "import numpy as np\n",
    "import pandas as pd\n",
    "import glob\n",
    "from sklearn.preprocessing import LabelEncoder\n",
    "import tensorflow as tf\n",
    "import itertools as it\n",
    "from sklearn.model_selection import StratifiedShuffleSplit\n",
    "from operator import itemgetter\n",
    "from PIL import Image\n",
    "import random"
   ]
  },
  {
   "cell_type": "code",
   "execution_count": 66,
   "metadata": {},
   "outputs": [],
   "source": [
    "names = ['a','b','c','d','e','f','g','h','i','j','k','l','m','n','o']\n",
    "train_data = pd.read_csv('./cnn-face-data/testImageList.txt',sep = ' ',header = None,names=names)"
   ]
  },
  {
   "cell_type": "code",
   "execution_count": 67,
   "metadata": {},
   "outputs": [],
   "source": [
    "path = './cnn-face-data/'\n",
    "batch_size = 64"
   ]
  },
  {
   "cell_type": "code",
   "execution_count": 68,
   "metadata": {},
   "outputs": [],
   "source": [
    "def load_image():\n",
    "    image = []\n",
    "    y = []\n",
    "    for i in range(batch_size):\n",
    "        data = train_data.sample(n=1)\n",
    "        [imga] = data.iloc[:,0].values.tolist()\n",
    "        [point] = (data.iloc[:,5:].values).tolist()\n",
    "        img = Image.open(path + imga).convert('L')\n",
    "        (w,h) = img.size\n",
    "        img = (np.array(img.resize((40,40)))/256).tolist()\n",
    "        for i in range(10):\n",
    "            if i % 2 == 0:\n",
    "                point[i] = point[i]/w\n",
    "            else:\n",
    "                point[i] = point[i]/h\n",
    "        image.append(img)\n",
    "        y.append(point)\n",
    "    return np.array(image),np.array(y)"
   ]
  },
  {
   "cell_type": "code",
   "execution_count": 5,
   "metadata": {},
   "outputs": [],
   "source": [
    "X = tf.placeholder(tf.float32, shape=[None, 40, 40])\n",
    "Y = tf.placeholder(tf.float32, shape=[None, 10])\n",
    "x_image = tf.reshape(X, [-1, 40, 40, 1])\n",
    "\n",
    "wc1 = tf.Variable(tf.random_normal([5, 5, 1, 16], stddev=0.1))\n",
    "bc1 = tf.Variable(tf.random_normal([16], stddev=0.01))\n",
    "wc2 = tf.Variable(tf.random_normal([3, 3, 16, 48], stddev=0.1))\n",
    "bc2 = tf.Variable(tf.random_normal([48], stddev=0.01))\n",
    "wc3 = tf.Variable(tf.random_normal([3, 3, 48, 64], stddev=0.1))\n",
    "bc3 = tf.Variable(tf.random_normal([64], stddev=0.01))\n",
    "wc4 = tf.Variable(tf.random_normal([2, 2, 64, 64], stddev=0.1))\n",
    "bc4 = tf.Variable(tf.random_normal([64], stddev=0.1))\n",
    "\n",
    "net = tf.nn.relu(tf.nn.conv2d(x_image, wc1, strides=[1, 1, 1, 1], padding='VALID') + bc1)\n",
    "net = tf.nn.max_pool(net, ksize=[1, 2, 2, 1],strides=[1, 2, 2, 1], padding='VALID')\n",
    "net = tf.nn.relu(tf.nn.conv2d(net, wc2, strides=[1, 1, 1, 1], padding='VALID') + bc2)\n",
    "net = tf.nn.max_pool(net, ksize=[1, 2, 2, 1],strides=[1, 2, 2, 1], padding='VALID')\n",
    "net = tf.nn.relu(tf.nn.conv2d(net, wc3, strides=[1, 1, 1, 1], padding='VALID') + bc3)\n",
    "net = tf.nn.max_pool(net, ksize=[1, 2, 2, 1],strides=[1, 2, 2, 1], padding='VALID')\n",
    "net = tf.nn.relu(tf.nn.conv2d(net, wc4, strides=[1, 1, 1, 1], padding='VALID') + bc4)\n",
    "# net = tf.nn.max_pool(net, ksize=[1, 2, 2, 1],strides=[1, 2, 2, 1], padding='VALID')\n",
    "\n",
    "net = tf.reshape(net, [-1, 2 * 2 * 64])\n",
    "\n",
    "wd1 = tf.Variable(tf.random_normal([2*2*64, 100], stddev=0.1))\n",
    "bd1 = tf.Variable(tf.random_normal([100], stddev=0.1))\n",
    "wd2 = tf.Variable(tf.random_normal([100, 10], stddev=0.1))\n",
    "bd2 = tf.Variable(tf.random_normal([10], stddev=0.1))\n",
    "\n",
    "net = tf.matmul(net, wd1) + bd1\n",
    "net = tf.nn.sigmoid(tf.matmul(net, wd2) + bd2)"
   ]
  },
  {
   "cell_type": "code",
   "execution_count": 6,
   "metadata": {},
   "outputs": [],
   "source": [
    "loss = tf.reduce_sum(tf.square(tf.subtract(Y, net)))\n",
    "opt = tf.train.AdamOptimizer(learning_rate=0.01).minimize(loss)"
   ]
  },
  {
   "cell_type": "code",
   "execution_count": 70,
   "metadata": {
    "scrolled": true
   },
   "outputs": [
    {
     "name": "stdout",
     "output_type": "stream",
     "text": [
      "INFO:tensorflow:Restoring parameters from ./modeln/\n",
      "0 0.4014082\n",
      "1 0.40762013\n",
      "2 0.32339877\n",
      "3 0.5230229\n",
      "4 0.3804016\n",
      "5 0.90267307\n",
      "6 0.76764333\n",
      "7 0.36395407\n",
      "8 0.40521738\n",
      "9 0.34070015\n",
      "10 0.6600201\n",
      "11 0.75749743\n",
      "12 0.37508294\n"
     ]
    },
    {
     "ename": "KeyboardInterrupt",
     "evalue": "",
     "output_type": "error",
     "traceback": [
      "\u001b[1;31m---------------------------------------------------------------------------\u001b[0m",
      "\u001b[1;31mKeyboardInterrupt\u001b[0m                         Traceback (most recent call last)",
      "\u001b[1;32m<ipython-input-70-e0eac07b4446>\u001b[0m in \u001b[0;36m<module>\u001b[1;34m\u001b[0m\n\u001b[0;32m      7\u001b[0m     \u001b[0mstart\u001b[0m \u001b[1;33m=\u001b[0m \u001b[0mtime\u001b[0m\u001b[1;33m.\u001b[0m\u001b[0mtime\u001b[0m\u001b[1;33m(\u001b[0m\u001b[1;33m)\u001b[0m\u001b[1;33m\u001b[0m\u001b[1;33m\u001b[0m\u001b[0m\n\u001b[0;32m      8\u001b[0m     \u001b[1;32mfor\u001b[0m \u001b[0mi\u001b[0m \u001b[1;32min\u001b[0m \u001b[0mrange\u001b[0m\u001b[1;33m(\u001b[0m\u001b[1;36m100000\u001b[0m\u001b[1;33m)\u001b[0m\u001b[1;33m:\u001b[0m\u001b[1;33m\u001b[0m\u001b[1;33m\u001b[0m\u001b[0m\n\u001b[1;32m----> 9\u001b[1;33m         \u001b[0mimage\u001b[0m\u001b[1;33m,\u001b[0m\u001b[0my\u001b[0m \u001b[1;33m=\u001b[0m \u001b[0mload_image\u001b[0m\u001b[1;33m(\u001b[0m\u001b[1;33m)\u001b[0m\u001b[1;33m\u001b[0m\u001b[1;33m\u001b[0m\u001b[0m\n\u001b[0m\u001b[0;32m     10\u001b[0m         \u001b[1;32mif\u001b[0m \u001b[0mi\u001b[0m \u001b[1;33m%\u001b[0m \u001b[1;36m1\u001b[0m \u001b[1;33m==\u001b[0m \u001b[1;36m0\u001b[0m\u001b[1;33m:\u001b[0m\u001b[1;33m\u001b[0m\u001b[1;33m\u001b[0m\u001b[0m\n\u001b[0;32m     11\u001b[0m             \u001b[0mlo\u001b[0m \u001b[1;33m=\u001b[0m \u001b[0msess\u001b[0m\u001b[1;33m.\u001b[0m\u001b[0mrun\u001b[0m\u001b[1;33m(\u001b[0m\u001b[0mloss\u001b[0m\u001b[1;33m,\u001b[0m \u001b[0mfeed_dict\u001b[0m\u001b[1;33m=\u001b[0m\u001b[1;33m{\u001b[0m\u001b[0mX\u001b[0m\u001b[1;33m:\u001b[0m \u001b[0mimage\u001b[0m\u001b[1;33m,\u001b[0m \u001b[0mY\u001b[0m\u001b[1;33m:\u001b[0m \u001b[0my\u001b[0m\u001b[1;33m}\u001b[0m\u001b[1;33m)\u001b[0m\u001b[1;33m\u001b[0m\u001b[1;33m\u001b[0m\u001b[0m\n",
      "\u001b[1;32m<ipython-input-68-922dc50b38e7>\u001b[0m in \u001b[0;36mload_image\u001b[1;34m()\u001b[0m\n\u001b[0;32m      6\u001b[0m         \u001b[1;33m[\u001b[0m\u001b[0mimga\u001b[0m\u001b[1;33m]\u001b[0m \u001b[1;33m=\u001b[0m \u001b[0mdata\u001b[0m\u001b[1;33m.\u001b[0m\u001b[0miloc\u001b[0m\u001b[1;33m[\u001b[0m\u001b[1;33m:\u001b[0m\u001b[1;33m,\u001b[0m\u001b[1;36m0\u001b[0m\u001b[1;33m]\u001b[0m\u001b[1;33m.\u001b[0m\u001b[0mvalues\u001b[0m\u001b[1;33m.\u001b[0m\u001b[0mtolist\u001b[0m\u001b[1;33m(\u001b[0m\u001b[1;33m)\u001b[0m\u001b[1;33m\u001b[0m\u001b[1;33m\u001b[0m\u001b[0m\n\u001b[0;32m      7\u001b[0m         \u001b[1;33m[\u001b[0m\u001b[0mpoint\u001b[0m\u001b[1;33m]\u001b[0m \u001b[1;33m=\u001b[0m \u001b[1;33m(\u001b[0m\u001b[0mdata\u001b[0m\u001b[1;33m.\u001b[0m\u001b[0miloc\u001b[0m\u001b[1;33m[\u001b[0m\u001b[1;33m:\u001b[0m\u001b[1;33m,\u001b[0m\u001b[1;36m5\u001b[0m\u001b[1;33m:\u001b[0m\u001b[1;33m]\u001b[0m\u001b[1;33m.\u001b[0m\u001b[0mvalues\u001b[0m\u001b[1;33m)\u001b[0m\u001b[1;33m.\u001b[0m\u001b[0mtolist\u001b[0m\u001b[1;33m(\u001b[0m\u001b[1;33m)\u001b[0m\u001b[1;33m\u001b[0m\u001b[1;33m\u001b[0m\u001b[0m\n\u001b[1;32m----> 8\u001b[1;33m         \u001b[0mimg\u001b[0m \u001b[1;33m=\u001b[0m \u001b[0mImage\u001b[0m\u001b[1;33m.\u001b[0m\u001b[0mopen\u001b[0m\u001b[1;33m(\u001b[0m\u001b[0mpath\u001b[0m \u001b[1;33m+\u001b[0m \u001b[0mimga\u001b[0m\u001b[1;33m)\u001b[0m\u001b[1;33m.\u001b[0m\u001b[0mconvert\u001b[0m\u001b[1;33m(\u001b[0m\u001b[1;34m'L'\u001b[0m\u001b[1;33m)\u001b[0m\u001b[1;33m\u001b[0m\u001b[1;33m\u001b[0m\u001b[0m\n\u001b[0m\u001b[0;32m      9\u001b[0m         \u001b[1;33m(\u001b[0m\u001b[0mw\u001b[0m\u001b[1;33m,\u001b[0m\u001b[0mh\u001b[0m\u001b[1;33m)\u001b[0m \u001b[1;33m=\u001b[0m \u001b[0mimg\u001b[0m\u001b[1;33m.\u001b[0m\u001b[0msize\u001b[0m\u001b[1;33m\u001b[0m\u001b[1;33m\u001b[0m\u001b[0m\n\u001b[0;32m     10\u001b[0m         \u001b[0mimg\u001b[0m \u001b[1;33m=\u001b[0m \u001b[1;33m(\u001b[0m\u001b[0mnp\u001b[0m\u001b[1;33m.\u001b[0m\u001b[0marray\u001b[0m\u001b[1;33m(\u001b[0m\u001b[0mimg\u001b[0m\u001b[1;33m.\u001b[0m\u001b[0mresize\u001b[0m\u001b[1;33m(\u001b[0m\u001b[1;33m(\u001b[0m\u001b[1;36m40\u001b[0m\u001b[1;33m,\u001b[0m\u001b[1;36m40\u001b[0m\u001b[1;33m)\u001b[0m\u001b[1;33m)\u001b[0m\u001b[1;33m)\u001b[0m\u001b[1;33m/\u001b[0m\u001b[1;36m256\u001b[0m\u001b[1;33m)\u001b[0m\u001b[1;33m.\u001b[0m\u001b[0mtolist\u001b[0m\u001b[1;33m(\u001b[0m\u001b[1;33m)\u001b[0m\u001b[1;33m\u001b[0m\u001b[1;33m\u001b[0m\u001b[0m\n",
      "\u001b[1;32me:\\program files\\python36\\lib\\site-packages\\PIL\\Image.py\u001b[0m in \u001b[0;36mopen\u001b[1;34m(fp, mode)\u001b[0m\n\u001b[0;32m   2632\u001b[0m \u001b[1;33m\u001b[0m\u001b[0m\n\u001b[0;32m   2633\u001b[0m     \u001b[1;32mif\u001b[0m \u001b[0mfilename\u001b[0m\u001b[1;33m:\u001b[0m\u001b[1;33m\u001b[0m\u001b[1;33m\u001b[0m\u001b[0m\n\u001b[1;32m-> 2634\u001b[1;33m         \u001b[0mfp\u001b[0m \u001b[1;33m=\u001b[0m \u001b[0mbuiltins\u001b[0m\u001b[1;33m.\u001b[0m\u001b[0mopen\u001b[0m\u001b[1;33m(\u001b[0m\u001b[0mfilename\u001b[0m\u001b[1;33m,\u001b[0m \u001b[1;34m\"rb\"\u001b[0m\u001b[1;33m)\u001b[0m\u001b[1;33m\u001b[0m\u001b[1;33m\u001b[0m\u001b[0m\n\u001b[0m\u001b[0;32m   2635\u001b[0m         \u001b[0mexclusive_fp\u001b[0m \u001b[1;33m=\u001b[0m \u001b[1;32mTrue\u001b[0m\u001b[1;33m\u001b[0m\u001b[1;33m\u001b[0m\u001b[0m\n\u001b[0;32m   2636\u001b[0m \u001b[1;33m\u001b[0m\u001b[0m\n",
      "\u001b[1;31mKeyboardInterrupt\u001b[0m: "
     ]
    }
   ],
   "source": [
    "import time\n",
    "saver=tf.train.Saver(max_to_keep=1)\n",
    "\n",
    "with tf.Session() as sess:\n",
    "    saver.restore(sess, \"./modeln/\")\n",
    "    # sess.run(tf.global_variables_initializer())\n",
    "    start = time.time()\n",
    "    for i in range(100000):\n",
    "        image,y = load_image()\n",
    "        if i % 1 == 0:\n",
    "            lo = sess.run(loss, feed_dict={X: image, Y: y})\n",
    "            print(i, lo)\n",
    "\n",
    "        # sess.run(opt, feed_dict={X: image, Y: y})\n",
    "        \n",
    "        if i % 5000 == 0 and i != 0:\n",
    "            end =time.time()\n",
    "            saver.save(sess, './modeln/')\n",
    "            print(end - start, '保存成功')\n",
    "            start = end"
   ]
  },
  {
   "cell_type": "code",
   "execution_count": 41,
   "metadata": {},
   "outputs": [],
   "source": [
    "img = np.array(img)"
   ]
  },
  {
   "cell_type": "code",
   "execution_count": 65,
   "metadata": {},
   "outputs": [
    {
     "name": "stdout",
     "output_type": "stream",
     "text": [
      "INFO:tensorflow:Restoring parameters from ./modeln/\n",
      "(40, 40)\n",
      "[17.122776 18.263939 23.576649 18.195328 21.190239 21.882132 17.487104\n",
      " 24.901943 23.191118 24.734467] [[16.44 17.32 23.72 17.56 20.36 21.72 17.   24.52 22.92 24.6 ]]\n"
     ]
    }
   ],
   "source": [
    "saver=tf.train.Saver(max_to_keep=1)\n",
    "\n",
    "with tf.Session() as sess:\n",
    "    saver.restore(sess, \"./modeln/\")\n",
    "    image,y = load_image()\n",
    "    n = sess.run(net, feed_dict={X: image})\n",
    "    n = np.squeeze(n)*40\n",
    "    img = np.squeeze(image)*256\n",
    "    print(img.shape)\n",
    "    for i in range(5):\n",
    "        img[int(n[2*i+1])-1:int(n[2*i+1])+1,int(n[2*i])-1:int(n[2*i])+1] = 255\n",
    "    img = Image.fromarray(img.astype('uint8')).convert('L')\n",
    "    img.show()\n",
    "    print(n,y*40)"
   ]
  },
  {
   "cell_type": "code",
   "execution_count": 33,
   "metadata": {},
   "outputs": [],
   "source": [
    "img = Image.open('./cnn-face-data/net_7876/_40_1610_0.jpg').convert('L')\n",
    "n = [70.000000, 59.000000, 108.000000, 59.000000, 93.000000, 81.000000, 67.000000, 96.000000, 100.000000, 95.000000]\n",
    "img = np.squeeze(np.array(img))\n",
    "for i in range(5):\n",
    "    img[int(n[2*i+1])-1:int(n[2*i+1])+1,int(n[2*i])-1:int(n[2*i])+1] = 255\n",
    "img = Image.fromarray(img.astype('uint8')).convert('L')\n",
    "img.show()"
   ]
  },
  {
   "cell_type": "code",
   "execution_count": 34,
   "metadata": {},
   "outputs": [
    {
     "data": {
      "text/plain": [
       "(160, 216)"
      ]
     },
     "execution_count": 34,
     "metadata": {},
     "output_type": "execute_result"
    }
   ],
   "source": [
    "img = Image.open('./cnn-face-data/net_7876/_40_1610_0.jpg').convert('L')\n",
    "img.size"
   ]
  },
  {
   "cell_type": "code",
   "execution_count": 105,
   "metadata": {},
   "outputs": [
    {
     "data": {
      "text/plain": [
       "list"
      ]
     },
     "execution_count": 105,
     "metadata": {},
     "output_type": "execute_result"
    }
   ],
   "source": [
    "type(y)"
   ]
  },
  {
   "cell_type": "code",
   "execution_count": null,
   "metadata": {},
   "outputs": [],
   "source": []
  }
 ],
 "metadata": {
  "kernelspec": {
   "display_name": "Python 3",
   "language": "python",
   "name": "python3"
  },
  "language_info": {
   "codemirror_mode": {
    "name": "ipython",
    "version": 3
   },
   "file_extension": ".py",
   "mimetype": "text/x-python",
   "name": "python",
   "nbconvert_exporter": "python",
   "pygments_lexer": "ipython3",
   "version": "3.6.8"
  }
 },
 "nbformat": 4,
 "nbformat_minor": 2
}
